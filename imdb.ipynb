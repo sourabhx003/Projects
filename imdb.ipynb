{
 "cells": [
  {
   "cell_type": "code",
   "execution_count": 1,
   "metadata": {},
   "outputs": [],
   "source": [
    "import tensorflow as tf\n",
    "import numpy as np\n",
    "from tensorflow.keras.preprocessing.text import Tokenizer\n",
    "from tensorflow.keras.preprocessing.sequence import pad_sequences"
   ]
  },
  {
   "cell_type": "code",
   "execution_count": 2,
   "metadata": {},
   "outputs": [],
   "source": [
    "import tensorflow_datasets as tfds"
   ]
  },
  {
   "cell_type": "code",
   "execution_count": 3,
   "metadata": {},
   "outputs": [],
   "source": [
    "imdb , info = tfds.load(\"imdb_reviews\",as_supervised=True,with_info=True)"
   ]
  },
  {
   "cell_type": "code",
   "execution_count": 4,
   "metadata": {},
   "outputs": [],
   "source": [
    "train_data , test_data = imdb[\"train\"], imdb[\"test\"]\n",
    "\n",
    "training_sentences = []\n",
    "training_labels =[]\n",
    "\n",
    "testing_sentences = []\n",
    "testing_labels = []\n",
    "\n",
    "for key, value in train_data:\n",
    "    training_sentences.append(key.numpy().decode(\"utf8\"))\n",
    "    training_labels.append(value.numpy())\n",
    "\n",
    "for key, value in test_data:\n",
    "    testing_sentences.append(key.numpy().decode(\"utf8\"))\n",
    "    testing_labels.append(value.numpy())\n",
    "    \n",
    "final_training_labels = np.array(training_labels)\n",
    "final_testing_labels = np.array(testing_labels)"
   ]
  },
  {
   "cell_type": "code",
   "execution_count": 5,
   "metadata": {},
   "outputs": [],
   "source": [
    "vocab_size = 10000\n",
    "embedding_dim = 16\n",
    "max_word = 120\n",
    "oov = \"<OOV>\"\n",
    "num_epoch = 10\n",
    "trunc = \"post\"\n",
    "\n",
    "token = Tokenizer(num_words = vocab_size,oov_token=oov)\n",
    "token.fit_on_texts(training_sentences)\n",
    "word_index = token.word_index\n",
    "\n",
    "sequence = token.texts_to_sequences(training_sentences)\n",
    "padded = pad_sequences(sequence,truncating=trunc,maxlen=max_word)\n",
    "\n",
    "testing_seq = token.texts_to_sequences(testing_sentences)\n",
    "test_pad = pad_sequences(testing_seq,maxlen=max_word)"
   ]
  },
  {
   "cell_type": "code",
   "execution_count": 6,
   "metadata": {},
   "outputs": [
    {
     "name": "stdout",
     "output_type": "stream",
     "text": [
      "Model: \"sequential\"\n",
      "_________________________________________________________________\n",
      "Layer (type)                 Output Shape              Param #   \n",
      "=================================================================\n",
      "embedding (Embedding)        (None, 120, 16)           160000    \n",
      "_________________________________________________________________\n",
      "bidirectional (Bidirectional (None, 64)                9600      \n",
      "_________________________________________________________________\n",
      "dense (Dense)                (None, 16)                1040      \n",
      "_________________________________________________________________\n",
      "dense_1 (Dense)              (None, 1)                 17        \n",
      "=================================================================\n",
      "Total params: 170,657\n",
      "Trainable params: 170,657\n",
      "Non-trainable params: 0\n",
      "_________________________________________________________________\n"
     ]
    }
   ],
   "source": [
    "model = tf.keras.models.Sequential([\n",
    "    tf.keras.layers.Embedding(vocab_size,embedding_dim,input_length=max_word),\n",
    "    tf.keras.layers.Bidirectional(tf.keras.layers.GRU(32)),\n",
    "    tf.keras.layers.Dense(16,activation=\"relu\"),\n",
    "    tf.keras.layers.Dense(1,activation=\"sigmoid\")\n",
    "])\n",
    "\n",
    "model.compile(loss=\"binary_crossentropy\",optimizer=\"adam\",metrics=[\"acc\"])\n",
    "model.summary()"
   ]
  },
  {
   "cell_type": "code",
   "execution_count": 7,
   "metadata": {
    "scrolled": false
   },
   "outputs": [
    {
     "name": "stdout",
     "output_type": "stream",
     "text": [
      "Train on 25000 samples, validate on 25000 samples\n",
      "Epoch 1/10\n",
      "25000/25000 [==============================] - 110s 4ms/sample - loss: 0.5135 - acc: 0.7244 - val_loss: 0.3497 - val_acc: 0.8475\n",
      "Epoch 2/10\n",
      "25000/25000 [==============================] - 101s 4ms/sample - loss: 0.3014 - acc: 0.8781 - val_loss: 0.3475 - val_acc: 0.8489\n",
      "Epoch 3/10\n",
      "25000/25000 [==============================] - 103s 4ms/sample - loss: 0.2344 - acc: 0.9085 - val_loss: 0.3679 - val_acc: 0.8387\n",
      "Epoch 4/10\n",
      "25000/25000 [==============================] - 102s 4ms/sample - loss: 0.1809 - acc: 0.9344 - val_loss: 0.4358 - val_acc: 0.8340\n",
      "Epoch 5/10\n",
      "25000/25000 [==============================] - 103s 4ms/sample - loss: 0.1393 - acc: 0.9501 - val_loss: 0.5385 - val_acc: 0.8234\n",
      "Epoch 6/10\n",
      "25000/25000 [==============================] - 102s 4ms/sample - loss: 0.1037 - acc: 0.9634 - val_loss: 0.5555 - val_acc: 0.8146\n",
      "Epoch 7/10\n",
      "25000/25000 [==============================] - 103s 4ms/sample - loss: 0.0644 - acc: 0.9787 - val_loss: 0.8847 - val_acc: 0.8005\n",
      "Epoch 8/10\n",
      "25000/25000 [==============================] - 103s 4ms/sample - loss: 0.0478 - acc: 0.9840 - val_loss: 0.8403 - val_acc: 0.8029\n",
      "Epoch 9/10\n",
      "25000/25000 [==============================] - 107s 4ms/sample - loss: 0.0336 - acc: 0.9884 - val_loss: 0.9408 - val_acc: 0.8157\n",
      "Epoch 10/10\n",
      "25000/25000 [==============================] - 110s 4ms/sample - loss: 0.0256 - acc: 0.9912 - val_loss: 1.0189 - val_acc: 0.8117\n"
     ]
    }
   ],
   "source": [
    "hist = model.fit(padded,final_training_labels,epochs=num_epoch,validation_data=(test_pad , final_testing_labels))"
   ]
  },
  {
   "cell_type": "code",
   "execution_count": 8,
   "metadata": {},
   "outputs": [
    {
     "name": "stdout",
     "output_type": "stream",
     "text": [
      "[[11, 64, 102, 12, 7, 478, 1200]]\n"
     ]
    }
   ],
   "source": [
    "sentence = \"I really think this is amazing. honest.\"\n",
    "sequence = token.texts_to_sequences([sentence])\n",
    "print(sequence)"
   ]
  },
  {
   "cell_type": "code",
   "execution_count": 9,
   "metadata": {},
   "outputs": [],
   "source": [
    "e = model.layers[0]"
   ]
  },
  {
   "cell_type": "code",
   "execution_count": 10,
   "metadata": {},
   "outputs": [],
   "source": [
    "weights = e.get_weights()[0]"
   ]
  },
  {
   "cell_type": "code",
   "execution_count": 11,
   "metadata": {},
   "outputs": [
    {
     "data": {
      "text/plain": [
       "(10000, 16)"
      ]
     },
     "execution_count": 11,
     "metadata": {},
     "output_type": "execute_result"
    }
   ],
   "source": [
    "weights.shape"
   ]
  },
  {
   "cell_type": "code",
   "execution_count": 12,
   "metadata": {},
   "outputs": [],
   "source": [
    "import matplotlib.pyplot as plt"
   ]
  },
  {
   "cell_type": "code",
   "execution_count": 13,
   "metadata": {},
   "outputs": [
    {
     "data": {
      "image/png": "[encoded data removed]",
      "text/plain": [
       "<Figure size 432x288 with 1 Axes>"
      ]
     },
     "metadata": {
      "needs_background": "light"
     },
     "output_type": "display_data"
    },
    {
     "data": {
      "image/png": "[encoded data removed]",
      "text/plain": [
       "<Figure size 432x288 with 1 Axes>"
      ]
     },
     "metadata": {
      "needs_background": "light"
     },
     "output_type": "display_data"
    }
   ],
   "source": [
    "plt.plot(hist.history[\"acc\"])\n",
    "plt.plot(hist.history[\"val_acc\"])\n",
    "plt.xlabel(\"Epoch\")\n",
    "plt.ylabel(\"accuracy\")\n",
    "plt.title(\"accuracy graph\")\n",
    "plt.legend([\"acc\",\"val_acc\"])\n",
    "plt.show()\n",
    "\n",
    "plt.plot(hist.history[\"loss\"])\n",
    "plt.plot(hist.history[\"val_loss\"])\n",
    "plt.xlabel(\"Epoch\")\n",
    "plt.ylabel(\"loss\")\n",
    "plt.title(\"loss graph\")\n",
    "plt.legend([\"loss\",\"val_loss\"])\n",
    "plt.show()"
   ]
  },
  {
   "cell_type": "code",
   "execution_count": null,
   "metadata": {},
   "outputs": [],
   "source": []
  }
 ],
 "metadata": {
  "kernelspec": {
   "display_name": "Python 3",
   "language": "python",
   "name": "python3"
  },
  "language_info": {
   "codemirror_mode": {
    "name": "ipython",
    "version": 3
   },
   "file_extension": ".py",
   "mimetype": "text/x-python",
   "name": "python",
   "nbconvert_exporter": "python",
   "pygments_lexer": "ipython3",
   "version": "3.7.6"
  }
 },
 "nbformat": 4,
 "nbformat_minor": 4
}
